{
 "cells": [
  {
   "cell_type": "markdown",
   "metadata": {},
   "source": [
    "Source: https://ncss-wpengine.netdna-ssl.com/wp-content/themes/ncss/pdf/Procedures/NCSS/Hotellings_Two-Sample_T2.pdf\n",
    "\n",
    "\n",
    "Example in this notebook:\n",
    "\n",
    "* We live in a 2D world with a 2D GPS\n",
    "* There is a point $y_{p}$ in 2D world that we know up to some covariance $S_{p}$\n",
    "* Now we get multiple datasets with samples from a 2D GPS and we want to test if these where recorded at point $p$.\n",
    "* We will number these datsets with letters from A to B. Each dataset has 100 points. The sample mean will be called $y_{A} ... y_{B}$ and the sample covariances $S_{A} ... S_{B}$. The samples itself will be an array called $Q_{A}..Q_{B}$\n",
    "\n",
    "\n",
    "\n"
   ]
  },
  {
   "cell_type": "code",
   "execution_count": 214,
   "metadata": {},
   "outputs": [
    {
     "data": {
      "text/plain": [
       "<matplotlib.collections.LineCollection at 0x7f685db1ae48>"
      ]
     },
     "execution_count": 214,
     "metadata": {},
     "output_type": "execute_result"
    },
    {
     "data": {
      "image/png": "[encoded data removed]",
      "text/plain": [
       "<Figure size 432x288 with 1 Axes>"
      ]
     },
     "metadata": {},
     "output_type": "display_data"
    }
   ],
   "source": [
    "import numpy as np\n",
    "\n",
    "# define our known location \n",
    "y_p = np.array([26,7])\n",
    "S_p = np.diag([2,4])\n",
    "n_p = 1000000000 # very large, as we know the statistics exactly\n",
    "Q_p = np.random.multivariate_normal(y_p, S_p, 100)\n",
    "\n",
    "\n",
    "# create sampling 1 ... 3\n",
    "y_A = np.array([25, 6])\n",
    "S_A = np.diag([0.1, 0.1])\n",
    "n_A = 100 \n",
    "Q_A = np.random.multivariate_normal(y_A, S_A, n_A)\n",
    "\n",
    "y_B = np.array([25.5, 6.5])\n",
    "S_B = np.diag([20, 20])\n",
    "n_B = 100\n",
    "Q_B = np.random.multivariate_normal(y_B, S_B, n_B)\n",
    "\n",
    "y_C = np.array([25.6, 6.6])\n",
    "S_C = np.diag([1,1 ])\n",
    "n_C = 100 \n",
    "Q_C = np.random.multivariate_normal(y_C, S_C, n_C)\n",
    "\n",
    "\n",
    "# plot that stuff\n",
    "%matplotlib inline\n",
    "import matplotlib.pyplot as plt\n",
    "plt.style.use('seaborn-whitegrid')\n",
    "\n",
    "#plt.plot(Q_p[:,0], Q_p[:,1], 'o', color='black', alpha=0.5)\n",
    "\n",
    "plt.plot(Q_B[:,0], Q_B[:,1], 'o', color='green', alpha=0.2)\n",
    "plt.plot(Q_C[:,0], Q_C[:,1], 'o', color='blue', alpha=0.2)\n",
    "plt.plot(Q_A[:,0], Q_A[:,1], 'o', color='red', alpha=0.1)\n",
    "plt.hlines(7,15,35, \"black\")\n",
    "plt.vlines(26,-5,15,  \"black\")\n"
   ]
  },
  {
   "cell_type": "markdown",
   "metadata": {},
   "source": [
    "* black lines = mean location of P (known up to a covariance)\n",
    "\n",
    "* Red Samples = From Distribution A \n",
    "* Green Samples = From distribution B\n",
    "* Blue Samples = From Distribution C\n",
    "\n",
    "Intuition:\n",
    "* Red samples: precisely located at the wrong spot -> probably not from our point p\n",
    "* Green samples: Mean almost at the right position, but large covariance. Some chance that it is observed from point p\n",
    "* Blue samples: most likely from our position. But how likely?\n",
    "\n",
    "\n",
    "let's test this!"
   ]
  },
  {
   "cell_type": "code",
   "execution_count": 199,
   "metadata": {},
   "outputs": [],
   "source": [
    "def calc_T2(y_1, S_1, n_1, y_2, S_2, n_2):\n",
    "    return (y_1-y_2).T.dot(np.linalg.inv(S_1/n_1+S_2/n_2)).dot(y_1-y_2)\n",
    "\n",
    "\n",
    "def v(S_1, n_1, S_2, n_2):\n",
    "    Sn1 = S_1/n_1\n",
    "    Sn2 = S_2/n_2\n",
    "    \n",
    "    A = ((Sn1+Sn2).dot(Sn1+Sn2)).trace()\n",
    "    B =  (Sn1+Sn2).trace()**2\n",
    "    C = ((Sn1.dot(Sn1)).trace() + Sn1.trace() **2)/(n_1-1)\n",
    "    D = ((Sn2.dot(Sn2)).trace() + Sn2.trace() **2)/(n_2-1)\n",
    "    \n",
    "    return (A+B)/(C+D)\n"
   ]
  },
  {
   "cell_type": "markdown",
   "metadata": {},
   "source": [
    "Our null hypothesis for each distribution $A,B,C$ is, that the distribution is equal to our point $p$.\n",
    "We reject null hypothesis for $T2 \\geq v$.\n"
   ]
  },
  {
   "cell_type": "code",
   "execution_count": 215,
   "metadata": {},
   "outputs": [
    {
     "name": "stdout",
     "output_type": "stream",
     "text": [
      "1999.9940000199997\n",
      "99.00059400092401\n",
      "True\n"
     ]
    }
   ],
   "source": [
    "# For Distribution A:\n",
    "t2_A = calc_T2(y_p, S_p, n_p, y_A, S_A, n_A)\n",
    "v_A = v(S_p, n_p, S_A, n_A)\n",
    "\n",
    "print(t2_A)\n",
    "print(v_A)\n",
    "print(t2_A >= v_A)\n"
   ]
  },
  {
   "cell_type": "code",
   "execution_count": 216,
   "metadata": {},
   "outputs": [
    {
     "name": "stdout",
     "output_type": "stream",
     "text": [
      "2.4999999625000004\n",
      "99.00000297000001\n",
      "False\n"
     ]
    }
   ],
   "source": [
    "t2_B = calc_T2(y_p, S_p, n_p, y_B, S_B, n_B)\n",
    "v_B = v(S_p, n_p, S_B, n_B)\n",
    "\n",
    "print(t2_B)\n",
    "print(v_B)\n",
    "print(t2_B >= v_B)\n"
   ]
  },
  {
   "cell_type": "code",
   "execution_count": 217,
   "metadata": {},
   "outputs": [
    {
     "name": "stdout",
     "output_type": "stream",
     "text": [
      "31.999990400003114\n",
      "99.00005940000925\n",
      "False\n"
     ]
    }
   ],
   "source": [
    "t2_C = calc_T2(y_p, S_p, n_p, y_C, S_C, n_C)\n",
    "v_C = v(S_p, n_p, S_C, n_C)\n",
    "\n",
    "print(t2_C)\n",
    "print(v_C)\n",
    "print(t2_C >= v_C)\n",
    "\n"
   ]
  },
  {
   "cell_type": "markdown",
   "metadata": {},
   "source": [
    "Conclusion, what does this tell us?\n",
    "\n",
    "* it is unlikely that distribution A (red) was sampled at point $p$\n",
    "* It is possible that distribution B (green) was sampled at point $p$\n",
    "* it is also possible that distribution C (blue) was sampled at point $p$\n",
    "\n",
    "If we had to select one, which one would you choose?\n",
    "\n",
    "* Probably the one that is able to explain the data with the smallest covariance?, so in this case this would probably be C\n",
    "* Could e.g. create a score that relates how close we are to reject the hypothesis with the trace of the covariance matrix, $trace(S)*t2/v$\n",
    "\n",
    "This would yield the following for distribution B and C (lower = better)\n"
   ]
  },
  {
   "cell_type": "code",
   "execution_count": 219,
   "metadata": {},
   "outputs": [
    {
     "name": "stdout",
     "output_type": "stream",
     "text": [
      "B:\n",
      "1.010100964646466\n",
      "C:\n",
      "0.6464640646468163\n"
     ]
    }
   ],
   "source": [
    "print(\"B:\")\n",
    "print(S_B.trace()*(t2_B/v_B))\n",
    "\n",
    "print(\"C:\")\n",
    "print(S_C.trace()*(t2_C/v_C))"
   ]
  }
 ],
 "metadata": {
  "kernelspec": {
   "display_name": "Python 3",
   "language": "python",
   "name": "python3"
  },
  "language_info": {
   "codemirror_mode": {
    "name": "ipython",
    "version": 3
   },
   "file_extension": ".py",
   "mimetype": "text/x-python",
   "name": "python",
   "nbconvert_exporter": "python",
   "pygments_lexer": "ipython3",
   "version": "3.6.9"
  }
 },
 "nbformat": 4,
 "nbformat_minor": 4
}
